{
 "cells": [
  {
   "cell_type": "markdown",
   "metadata": {},
   "source": [
    "R code: https://github.com/lijinsgithub/COVID19_India_SWB/blob/master/covid19_R.R"
   ]
  },
  {
   "cell_type": "code",
   "execution_count": 2,
   "metadata": {},
   "outputs": [],
   "source": [
    "import rpy2.robjects"
   ]
  },
  {
   "cell_type": "code",
   "execution_count": 6,
   "metadata": {},
   "outputs": [
    {
     "name": "stderr",
     "output_type": "stream",
     "text": [
      "WARNING:rpy2.rinterface_lib.callbacks:R[write to console]: Use suppressPackageStartupMessages() to eliminate package startup\n",
      "messages\n",
      "\n"
     ]
    },
    {
     "data": {
      "text/plain": [
       "<rpy2.rinterface_lib.sexp.NULLType object at 0x7f86fd2a48c0> [RTYPES.NILSXP]"
      ]
     },
     "execution_count": 6,
     "metadata": {},
     "output_type": "execute_result"
    }
   ],
   "source": [
    "rpy2.robjects.r(\n",
    "    '''\n",
    "    options(warn=-1)\n",
    "    options(message=-1)\n",
    "    library(EpiEstim)\n",
    "    library(ggplot2)\n",
    "    library(\"gridExtra\")\n",
    "    library(magrittr)\n",
    "    library(readr)  # for read_csv\n",
    "    library(knitr)  # for kable\n",
    "\n",
    "    ##data1=read.csv(\"raw_data1.csv\", header=T) ##old ways##\n",
    "    ##data2=read.csv(\"raw_data2.csv\", header=T)\n",
    "    ##data3=read.csv(\"raw_data3.csv\", header=T)\n",
    "    ##data4=read.csv(\"raw_data4.csv\", header=T)\n",
    "    ##data5=read.csv(\"raw_data5.csv\", header=T)\n",
    "\n",
    "    #series1<-as.Date(data1[,3], format = \"%d/%m/%y\")\n",
    "    #series2<-as.Date(data2[,3], format = \"%d/%m/%y\")\n",
    "    #series3<-as.Date(data3[,3], format = \"%d/%m/%y\")\n",
    "    #series4<-as.Date(data4[,3], format = \"%d/%m/%y\")\n",
    "    #series5<-as.Date(data5[,3], format = \"%d/%m/%y\")\n",
    "\n",
    "    #all_cases <- c(series1, series2, series3, series4, series5)\n",
    "    #all.equal(as.numeric(all_dates), as.numeric(all_cases))\n",
    "\n",
    "    ##new way: read in data from the web##\n",
    "    all_dates <- c()\n",
    "    for(k in 1:5){\n",
    " \n",
    "      tab <- paste0(\"https://api.covid19india.org/csv/latest/raw_data\", k, \".csv\")\n",
    "      suppressMessages(suppressWarnings(tt <- readr::read_csv(tab)))\n",
    "  dates<-as.Date(unlist(tt[,3]), format = \"%d/%m/%y\")\n",
    "  \n",
    "      all_dates <- c(all_dates, as.Date(unlist(tt[,3]), format = \"%d/%m/%y\"))\n",
    "\n",
    "    }\n",
    "    '''\n",
    ")\n",
    "\n"
   ]
  },
  {
   "cell_type": "markdown",
   "metadata": {},
   "source": [
    "> R[write to console]: Error in library(EpiEstim) : there is no package called ‘EpiEstim’\n",
    "\n",
    "> RRuntimeError: Error in library(EpiEstim) : there is no package called ‘EpiEstim’\n",
    "\n",
    "* https://stackoverflow.com/questions/28367799/rpy2-not-finding-package\n",
    "\n",
    "* installed EpiEstim: https://github.com/jstockwin/EpiEstimApp/wiki/Example:-EpiEstim-R-package"
   ]
  },
  {
   "cell_type": "code",
   "execution_count": null,
   "metadata": {},
   "outputs": [],
   "source": []
  }
 ],
 "metadata": {
  "kernelspec": {
   "display_name": "Python [conda env:metis] *",
   "language": "python",
   "name": "conda-env-metis-py"
  },
  "language_info": {
   "codemirror_mode": {
    "name": "ipython",
    "version": 3
   },
   "file_extension": ".py",
   "mimetype": "text/x-python",
   "name": "python",
   "nbconvert_exporter": "python",
   "pygments_lexer": "ipython3",
   "version": "3.7.7"
  },
  "varInspector": {
   "cols": {
    "lenName": 16,
    "lenType": 16,
    "lenVar": 40
   },
   "kernels_config": {
    "python": {
     "delete_cmd_postfix": "",
     "delete_cmd_prefix": "del ",
     "library": "var_list.py",
     "varRefreshCmd": "print(var_dic_list())"
    },
    "r": {
     "delete_cmd_postfix": ") ",
     "delete_cmd_prefix": "rm(",
     "library": "var_list.r",
     "varRefreshCmd": "cat(var_dic_list()) "
    }
   },
   "types_to_exclude": [
    "module",
    "function",
    "builtin_function_or_method",
    "instance",
    "_Feature"
   ],
   "window_display": false
  }
 },
 "nbformat": 4,
 "nbformat_minor": 4
}
